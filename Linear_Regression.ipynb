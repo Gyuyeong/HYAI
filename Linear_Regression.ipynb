{
  "nbformat": 4,
  "nbformat_minor": 0,
  "metadata": {
    "colab": {
      "provenance": [],
      "authorship_tag": "ABX9TyPEs5GXwZ/ZxT6N3ln1cSdV",
      "include_colab_link": true
    },
    "kernelspec": {
      "name": "python3",
      "display_name": "Python 3"
    },
    "language_info": {
      "name": "python"
    }
  },
  "cells": [
    {
      "cell_type": "markdown",
      "metadata": {
        "id": "view-in-github",
        "colab_type": "text"
      },
      "source": [
        "<a href=\"https://colab.research.google.com/github/Gyuyeong/HYAI/blob/main/Linear_Regression.ipynb\" target=\"_parent\"><img src=\"https://colab.research.google.com/assets/colab-badge.svg\" alt=\"Open In Colab\"/></a>"
      ]
    },
    {
      "cell_type": "code",
      "execution_count": 59,
      "metadata": {
        "id": "icw4tCCzE-Vp"
      },
      "outputs": [],
      "source": [
        "import numpy as np"
      ]
    },
    {
      "cell_type": "code",
      "source": [
        "x = np.random.rand(100, 1)"
      ],
      "metadata": {
        "id": "vAYAkmYtFLl1"
      },
      "execution_count": 60,
      "outputs": []
    },
    {
      "cell_type": "code",
      "source": [
        "y = 1 + 2 * x + 0.1 * np.random.randn(100, 1)  # 선형관계를 만들어주기 위함"
      ],
      "metadata": {
        "id": "UOV8hBL0FMaT"
      },
      "execution_count": 61,
      "outputs": []
    },
    {
      "cell_type": "code",
      "source": [
        "import matplotlib.pyplot as plt\n",
        "\n",
        "fig, ax = plt.subplots()\n",
        "\n",
        "ax.scatter(x, y, label='train', alpha=0.5)"
      ],
      "metadata": {
        "colab": {
          "base_uri": "https://localhost:8080/",
          "height": 282
        },
        "id": "YRlHeDL3FXgX",
        "outputId": "a5b32feb-ca75-4f35-ae24-59157e81f082"
      },
      "execution_count": 63,
      "outputs": [
        {
          "output_type": "execute_result",
          "data": {
            "text/plain": [
              "<matplotlib.collections.PathCollection at 0x7fa5d5039210>"
            ]
          },
          "metadata": {},
          "execution_count": 63
        },
        {
          "output_type": "display_data",
          "data": {
            "text/plain": [
              "<Figure size 432x288 with 1 Axes>"
            ],
            "image/png": "[encoded data removed]"
          },
          "metadata": {
            "needs_background": "light"
          }
        }
      ]
    },
    {
      "cell_type": "code",
      "source": [
        "w = np.random.randn(1)\n",
        "b = np.random.randn(1)"
      ],
      "metadata": {
        "id": "mLKGN8KZFXqV"
      },
      "execution_count": 96,
      "outputs": []
    },
    {
      "cell_type": "code",
      "source": [
        "fig = plt.figure(figsize=(6, 6))\n",
        "plt.scatter(x, y)\n",
        "plt.plot(x, b + w * x, color=\"red\")\n",
        "plt.show()"
      ],
      "metadata": {
        "colab": {
          "base_uri": "https://localhost:8080/",
          "height": 374
        },
        "id": "uPaazDIiIE2X",
        "outputId": "ce79d1d9-9d79-4b7a-f559-e26d519a7cc2"
      },
      "execution_count": 97,
      "outputs": [
        {
          "output_type": "display_data",
          "data": {
            "text/plain": [
              "<Figure size 432x432 with 1 Axes>"
            ],
            "image/png": "[encoded data removed]"
          },
          "metadata": {
            "needs_background": "light"
          }
        }
      ]
    },
    {
      "cell_type": "code",
      "source": [
        "w"
      ],
      "metadata": {
        "colab": {
          "base_uri": "https://localhost:8080/"
        },
        "id": "ybgArzAXFX2F",
        "outputId": "7c15aeb9-17bf-442f-912a-c1ec5366c53e"
      },
      "execution_count": 98,
      "outputs": [
        {
          "output_type": "execute_result",
          "data": {
            "text/plain": [
              "array([1.09798102])"
            ]
          },
          "metadata": {},
          "execution_count": 98
        }
      ]
    },
    {
      "cell_type": "code",
      "source": [
        "b"
      ],
      "metadata": {
        "colab": {
          "base_uri": "https://localhost:8080/"
        },
        "id": "omPA4rjJFYBY",
        "outputId": "1db71682-8ace-4524-d69e-549e2f0b101a"
      },
      "execution_count": 99,
      "outputs": [
        {
          "output_type": "execute_result",
          "data": {
            "text/plain": [
              "array([-0.40279826])"
            ]
          },
          "metadata": {},
          "execution_count": 99
        }
      ]
    },
    {
      "cell_type": "code",
      "source": [
        "def mse(w, b, data):\n",
        "  yhat = w * x + b  # 예측값\n",
        "  error = y - yhat  # 오차값\n",
        "  loss = (error ** 2).mean()\n",
        "  return error, loss"
      ],
      "metadata": {
        "id": "-MpUdfucFo93"
      },
      "execution_count": 100,
      "outputs": []
    },
    {
      "cell_type": "code",
      "source": [
        "def sgd(lr, x, x_grad):  # 기울기와 절편을 업데이트 해줌.\n",
        "  result = x - lr * x_grad\n",
        "  return result"
      ],
      "metadata": {
        "id": "IOZgh1bnFpH7"
      },
      "execution_count": 101,
      "outputs": []
    },
    {
      "cell_type": "code",
      "source": [
        "def grad(error, data):\n",
        "  w_grad = -2 * (x * error).mean()\n",
        "  b_grad = -2 * error.mean()\n",
        "  return w_grad, b_grad"
      ],
      "metadata": {
        "id": "ADNSJ2HIFpKy"
      },
      "execution_count": 102,
      "outputs": []
    },
    {
      "cell_type": "code",
      "source": [
        "lr = 0.1  # 보폭\n",
        "n_epochs = 1000  # 반복 횟수\n",
        "error_loss = list()  # 오차를 시각화하기 위해 만든 list\n",
        "\n",
        "for epoch in range(n_epochs):\n",
        "  error, loss = mse(w, b, x)\n",
        "  error_loss.append(loss)\n",
        "  w_grad, b_grad = grad(error, x)\n",
        "  w = sgd(lr, w, w_grad)     # 기울기 업데이트\n",
        "  b = sgd(lr, b, b_grad)     # 절편 업데이트\n",
        "\n",
        "print(w, b)"
      ],
      "metadata": {
        "colab": {
          "base_uri": "https://localhost:8080/"
        },
        "id": "JfczGN9eFpNV",
        "outputId": "b2d45a37-4cd1-422d-e060-6d62937a31b3"
      },
      "execution_count": 105,
      "outputs": [
        {
          "output_type": "stream",
          "name": "stdout",
          "text": [
            "[2.02557405] [0.99652472]\n"
          ]
        }
      ]
    },
    {
      "cell_type": "code",
      "source": [
        "fig = plt.figure(figsize=(6, 6))\n",
        "plt.scatter(x, y)\n",
        "plt.plot(x, b + w * x, color=\"red\")\n",
        "plt.show()"
      ],
      "metadata": {
        "colab": {
          "base_uri": "https://localhost:8080/",
          "height": 374
        },
        "id": "86T3WWFgFpPy",
        "outputId": "aef1f663-e314-48ca-fb15-a1373600978e"
      },
      "execution_count": 106,
      "outputs": [
        {
          "output_type": "display_data",
          "data": {
            "text/plain": [
              "<Figure size 432x432 with 1 Axes>"
            ],
            "image/png": "[encoded data removed]"
          },
          "metadata": {
            "needs_background": "light"
          }
        }
      ]
    },
    {
      "cell_type": "code",
      "source": [
        "plt.figure(figsize=(25, 10))\n",
        "plt.yscale('log')\n",
        "plt.scatter([i for i in range(n_epochs)], error_loss, s=5, c='r', label='loss')\n",
        "plt.xlabel(\"Epoch\")\n",
        "plt.show()"
      ],
      "metadata": {
        "colab": {
          "base_uri": "https://localhost:8080/",
          "height": 606
        },
        "id": "qT9y6F_QFpSF",
        "outputId": "aad5c670-5c11-4215-af2b-14f448dea0e4"
      },
      "execution_count": 111,
      "outputs": [
        {
          "output_type": "display_data",
          "data": {
            "text/plain": [
              "<Figure size 1800x720 with 1 Axes>"
            ],
            "image/png": "[encoded data removed]"
          },
          "metadata": {
            "needs_background": "light"
          }
        }
      ]
    },
    {
      "cell_type": "code",
      "source": [
        "from sklearn.linear_model import LinearRegression"
      ],
      "metadata": {
        "id": "WWYc1G15J5hQ"
      },
      "execution_count": 108,
      "outputs": []
    },
    {
      "cell_type": "code",
      "source": [
        "line = LinearRegression()\n",
        "line.fit(x, y)\n",
        "print(line.coef_[0], line.intercept_)"
      ],
      "metadata": {
        "colab": {
          "base_uri": "https://localhost:8080/"
        },
        "id": "ymYME4-TLHQu",
        "outputId": "aab282f1-9d0d-4687-f58a-421bc40271e0"
      },
      "execution_count": 109,
      "outputs": [
        {
          "output_type": "stream",
          "name": "stdout",
          "text": [
            "[2.02557418] [0.99652465]\n"
          ]
        }
      ]
    },
    {
      "cell_type": "code",
      "source": [
        "print(w, b)"
      ],
      "metadata": {
        "colab": {
          "base_uri": "https://localhost:8080/"
        },
        "id": "zdL8WvR6LHar",
        "outputId": "7a5a19a7-2ef2-4ba6-beee-e8cb51b7d1cc"
      },
      "execution_count": 110,
      "outputs": [
        {
          "output_type": "stream",
          "name": "stdout",
          "text": [
            "[2.02557405] [0.99652472]\n"
          ]
        }
      ]
    },
    {
      "cell_type": "code",
      "source": [],
      "metadata": {
        "id": "xnoWz8ZnLHdB"
      },
      "execution_count": null,
      "outputs": []
    },
    {
      "cell_type": "code",
      "source": [],
      "metadata": {
        "id": "QZfIXUZeLHfT"
      },
      "execution_count": null,
      "outputs": []
    },
    {
      "cell_type": "code",
      "source": [],
      "metadata": {
        "id": "3bbQgXdELHhD"
      },
      "execution_count": null,
      "outputs": []
    }
  ]
}